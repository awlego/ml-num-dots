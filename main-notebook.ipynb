{
 "cells": [
  {
   "cell_type": "code",
   "execution_count": 2,
   "id": "91ae8bf6-a585-46ee-aa87-0182ad6b1b5b",
   "metadata": {},
   "outputs": [
    {
     "name": "stdout",
     "output_type": "stream",
     "text": [
      "/Users/awlego/Repositories/ml-num-dots/env3.10/bin/python\n"
     ]
    }
   ],
   "source": [
    "!which python"
   ]
  },
  {
   "cell_type": "code",
   "execution_count": 3,
   "id": "2c287cfe",
   "metadata": {},
   "outputs": [],
   "source": [
    "import ollama\n",
    "import pandas as pd\n",
    "import os\n",
    "from datetime import datetime\n",
    "import time\n",
    "from tqdm import tqdm\n",
    "import itertools\n",
    "from itertools import product\n"
   ]
  },
  {
   "cell_type": "code",
   "execution_count": 32,
   "id": "64fc0ee8",
   "metadata": {},
   "outputs": [],
   "source": [
    "pkl_name_1_5b = \"results/dot_counting_results_deepseek-r1_1.5b_20250227_092228.pkl\"\n",
    "pkl_name_7b = \"results/dot_counting_results_deepseek-r1_7b_20250227_092228.pkl\"\n",
    "pkl_name_14b = \"results/dot_counting_results_deepseek-r1_14b_20250227_092228.pkl\"\n",
    "pkl_name_32b = \"results/dot_counting_results_deepseek-r1_32b_20250227_092228.pkl\"\n",
    "\n",
    "df_1_5b = pd.read_pickle(pkl_name_1_5b)\n",
    "df_7b = pd.read_pickle(pkl_name_7b)\n",
    "df_14b = pd.read_pickle(pkl_name_14b)\n",
    "df_32b = pd.read_pickle(pkl_name_32b)\n",
    "\n"
   ]
  },
  {
   "cell_type": "code",
   "execution_count": 35,
   "id": "1725f180",
   "metadata": {},
   "outputs": [
    {
     "data": {
      "text/html": [
       "<div>\n",
       "<style scoped>\n",
       "    .dataframe tbody tr th:only-of-type {\n",
       "        vertical-align: middle;\n",
       "    }\n",
       "\n",
       "    .dataframe tbody tr th {\n",
       "        vertical-align: top;\n",
       "    }\n",
       "\n",
       "    .dataframe thead th {\n",
       "        text-align: right;\n",
       "    }\n",
       "</style>\n",
       "<table border=\"1\" class=\"dataframe\">\n",
       "  <thead>\n",
       "    <tr style=\"text-align: right;\">\n",
       "      <th></th>\n",
       "      <th>model</th>\n",
       "      <th>prompt_type</th>\n",
       "      <th>sequence_type</th>\n",
       "      <th>prompt</th>\n",
       "      <th>actual_count</th>\n",
       "      <th>model_answer</th>\n",
       "      <th>extracted_number</th>\n",
       "      <th>correct</th>\n",
       "    </tr>\n",
       "  </thead>\n",
       "  <tbody>\n",
       "    <tr>\n",
       "      <th>0</th>\n",
       "      <td>1.5b</td>\n",
       "      <td>1</td>\n",
       "      <td>1</td>\n",
       "      <td>Do not use code. How many periods/dots '.' are...</td>\n",
       "      <td>1</td>\n",
       "      <td>&lt;think&gt;\\nFirst, I will examine the given seque...</td>\n",
       "      <td>1</td>\n",
       "      <td>True</td>\n",
       "    </tr>\n",
       "    <tr>\n",
       "      <th>1</th>\n",
       "      <td>1.5b</td>\n",
       "      <td>1</td>\n",
       "      <td>1</td>\n",
       "      <td>Do not use code. How many periods/dots '.' are...</td>\n",
       "      <td>2</td>\n",
       "      <td>&lt;think&gt;\\nI need to determine how many dots (.)...</td>\n",
       "      <td>2</td>\n",
       "      <td>True</td>\n",
       "    </tr>\n",
       "    <tr>\n",
       "      <th>2</th>\n",
       "      <td>1.5b</td>\n",
       "      <td>1</td>\n",
       "      <td>1</td>\n",
       "      <td>Do not use code. How many periods/dots '.' are...</td>\n",
       "      <td>3</td>\n",
       "      <td>&lt;think&gt;\\nI need to determine how many periods ...</td>\n",
       "      <td>3</td>\n",
       "      <td>True</td>\n",
       "    </tr>\n",
       "    <tr>\n",
       "      <th>3</th>\n",
       "      <td>1.5b</td>\n",
       "      <td>1</td>\n",
       "      <td>1</td>\n",
       "      <td>Do not use code. How many periods/dots '.' are...</td>\n",
       "      <td>4</td>\n",
       "      <td>&lt;think&gt;\\nFirst, I will examine the given seque...</td>\n",
       "      <td>3</td>\n",
       "      <td>False</td>\n",
       "    </tr>\n",
       "    <tr>\n",
       "      <th>4</th>\n",
       "      <td>1.5b</td>\n",
       "      <td>1</td>\n",
       "      <td>1</td>\n",
       "      <td>Do not use code. How many periods/dots '.' are...</td>\n",
       "      <td>5</td>\n",
       "      <td>&lt;think&gt;\\nI need to determine how many periods ...</td>\n",
       "      <td>5</td>\n",
       "      <td>True</td>\n",
       "    </tr>\n",
       "  </tbody>\n",
       "</table>\n",
       "</div>"
      ],
      "text/plain": [
       "  model  prompt_type  sequence_type  \\\n",
       "0  1.5b            1              1   \n",
       "1  1.5b            1              1   \n",
       "2  1.5b            1              1   \n",
       "3  1.5b            1              1   \n",
       "4  1.5b            1              1   \n",
       "\n",
       "                                              prompt  actual_count  \\\n",
       "0  Do not use code. How many periods/dots '.' are...             1   \n",
       "1  Do not use code. How many periods/dots '.' are...             2   \n",
       "2  Do not use code. How many periods/dots '.' are...             3   \n",
       "3  Do not use code. How many periods/dots '.' are...             4   \n",
       "4  Do not use code. How many periods/dots '.' are...             5   \n",
       "\n",
       "                                        model_answer  extracted_number  \\\n",
       "0  <think>\\nFirst, I will examine the given seque...                 1   \n",
       "1  <think>\\nI need to determine how many dots (.)...                 2   \n",
       "2  <think>\\nI need to determine how many periods ...                 3   \n",
       "3  <think>\\nFirst, I will examine the given seque...                 3   \n",
       "4  <think>\\nI need to determine how many periods ...                 5   \n",
       "\n",
       "   correct  \n",
       "0     True  \n",
       "1     True  \n",
       "2     True  \n",
       "3    False  \n",
       "4     True  "
      ]
     },
     "execution_count": 35,
     "metadata": {},
     "output_type": "execute_result"
    }
   ],
   "source": [
    "# Add a 'model' column to each dataframe\n",
    "df_1_5b['model'] = '1.5b'\n",
    "df_7b['model'] = '7b'\n",
    "df_14b['model'] = '14b'\n",
    "df_32b['model'] = '32b'\n",
    "# Merge all dataframes into one\n",
    "df = pd.concat([df_1_5b, df_7b, df_14b, df_32b], ignore_index=True)\n",
    "model_size_dict = {'1.5b': 1.5, '7b': 7, '14b': 14, '32b': 32}\n",
    "\n",
    "df.head()\n"
   ]
  },
  {
   "cell_type": "code",
   "execution_count": 36,
   "id": "13522c69",
   "metadata": {},
   "outputs": [
    {
     "data": {
      "text/plain": [
       "model\n",
       "1.5b               0.28\n",
       "7b                 0.36\n",
       "14b                0.52\n",
       "deepseek-r1:32b    0.57\n",
       "Name: correct, dtype: float64"
      ]
     },
     "execution_count": 36,
     "metadata": {},
     "output_type": "execute_result"
    }
   ],
   "source": [
    "df.groupby('model').mean(numeric_only=True)['correct'].sort_index(key=lambda x: x.map(model_size_dict))"
   ]
  },
  {
   "cell_type": "markdown",
   "id": "a0d742d4",
   "metadata": {},
   "source": [
    "better models do better"
   ]
  },
  {
   "cell_type": "code",
   "execution_count": 16,
   "id": "593be322",
   "metadata": {},
   "outputs": [
    {
     "data": {
      "text/plain": [
       "actual_count\n",
       "1     1.000000\n",
       "2     1.000000\n",
       "3     1.000000\n",
       "4     0.833333\n",
       "5     0.666667\n",
       "6     0.750000\n",
       "7     0.750000\n",
       "8     0.666667\n",
       "9     0.500000\n",
       "10    0.583333\n",
       "11    0.166667\n",
       "12    0.333333\n",
       "13    0.250000\n",
       "14    0.166667\n",
       "15    0.083333\n",
       "16    0.083333\n",
       "17    0.000000\n",
       "18    0.083333\n",
       "19    0.083333\n",
       "20    0.250000\n",
       "21    0.083333\n",
       "22    0.000000\n",
       "23    0.083333\n",
       "24    0.166667\n",
       "25    0.083333\n",
       "Name: correct, dtype: float64"
      ]
     },
     "execution_count": 16,
     "metadata": {},
     "output_type": "execute_result"
    }
   ],
   "source": [
    "df.groupby('actual_count').mean(numeric_only=True)['correct']\n"
   ]
  },
  {
   "cell_type": "markdown",
   "id": "b2ad1c18",
   "metadata": {},
   "source": [
    "generally models get worse as number of dots increases, but there are some exceptions. 12 is better than 11, 20 and 24 also get bumps."
   ]
  },
  {
   "cell_type": "code",
   "execution_count": 29,
   "id": "73e60ad6",
   "metadata": {},
   "outputs": [
    {
     "data": {
      "text/plain": [
       "prompt_type\n",
       "1    0.406667\n",
       "2    0.366667\n",
       "Name: correct, dtype: float64"
      ]
     },
     "execution_count": 29,
     "metadata": {},
     "output_type": "execute_result"
    }
   ],
   "source": [
    "df.groupby('prompt_type').mean(numeric_only=True)['correct']\n"
   ]
  },
  {
   "cell_type": "markdown",
   "id": "71e56659",
   "metadata": {},
   "source": [
    "interesting! the simple prompting is better!"
   ]
  },
  {
   "cell_type": "code",
   "execution_count": 30,
   "id": "a9334ca4",
   "metadata": {},
   "outputs": [
    {
     "data": {
      "text/plain": [
       "sequence_type\n",
       "1    0.333333\n",
       "2    0.440000\n",
       "Name: correct, dtype: float64"
      ]
     },
     "execution_count": 30,
     "metadata": {},
     "output_type": "execute_result"
    }
   ],
   "source": [
    "df.groupby('sequence_type').mean(numeric_only=True)['correct']\n"
   ]
  },
  {
   "cell_type": "markdown",
   "id": "b1669632",
   "metadata": {},
   "source": [
    "As expected, tokenizing the sequence with spaces is better."
   ]
  },
  {
   "cell_type": "code",
   "execution_count": 31,
   "id": "d6ed190f",
   "metadata": {},
   "outputs": [
    {
     "data": {
      "text/plain": [
       "sequence_type  prompt_type\n",
       "1              1              0.373333\n",
       "               2              0.293333\n",
       "2              1              0.440000\n",
       "               2              0.440000\n",
       "Name: correct, dtype: float64"
      ]
     },
     "execution_count": 31,
     "metadata": {},
     "output_type": "execute_result"
    }
   ],
   "source": [
    "df.groupby(['sequence_type', 'prompt_type']).mean(numeric_only=True)['correct']\n"
   ]
  },
  {
   "cell_type": "markdown",
   "id": "2e1d813f",
   "metadata": {},
   "source": []
  }
 ],
 "metadata": {
  "kernelspec": {
   "display_name": "env3.10",
   "language": "python",
   "name": "python3"
  },
  "language_info": {
   "codemirror_mode": {
    "name": "ipython",
    "version": 3
   },
   "file_extension": ".py",
   "mimetype": "text/x-python",
   "name": "python",
   "nbconvert_exporter": "python",
   "pygments_lexer": "ipython3",
   "version": "3.10.15"
  }
 },
 "nbformat": 4,
 "nbformat_minor": 5
}
